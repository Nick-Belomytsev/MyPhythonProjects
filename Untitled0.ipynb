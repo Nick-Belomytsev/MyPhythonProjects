{
  "nbformat": 4,
  "nbformat_minor": 0,
  "metadata": {
    "colab": {
      "provenance": []
    },
    "kernelspec": {
      "name": "python3",
      "display_name": "Python 3"
    },
    "language_info": {
      "name": "python"
    }
  },
  "cells": [
    {
      "cell_type": "code",
      "execution_count": 4,
      "metadata": {
        "colab": {
          "base_uri": "https://localhost:8080/"
        },
        "id": "DvoCp845ik3A",
        "outputId": "10fc1b2e-089e-4b82-acad-384963695337"
      },
      "outputs": [
        {
          "output_type": "stream",
          "name": "stdout",
          "text": [
            "[1, 2, 3, 4, 5, 6, 7, 8, 9, 10]\n"
          ]
        }
      ],
      "source": [
        "numbers = []\n",
        "for i in range(1, 11):\n",
        "    numbers.append(i)\n",
        "print(numbers)\n"
      ]
    },
    {
      "cell_type": "markdown",
      "source": [
        "Задача: Создание списка чисел от 1 до 10\n",
        "В этом блокноте мы используем цикл `for`, чтобы создать список целых чисел от 1 до 10 и вывести его на экран.\n",
        "\n",
        "**Алгоритм:**\n",
        "1. Создаем пустой список.\n",
        "2. Используем цикл `for`, чтобы последовательно добавить числа от 1 до 10 в список.\n",
        "3. После завершения цикла выводим готовый список.\n",
        "\n",
        "## Оценка сложности алгоритма\n",
        "\n",
        "**Временная сложность:** O(N), так как цикл выполняет N операций добавления элементов в список.\n",
        "\n",
        "**Пространственная сложность:** O(N), так как требуется место для хранения списка из N элементов.\n"
      ],
      "metadata": {
        "id": "zrVYqZHxjSLJ"
      }
    }
  ]
}