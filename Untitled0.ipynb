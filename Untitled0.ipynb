{
  "nbformat": 4,
  "nbformat_minor": 0,
  "metadata": {
    "colab": {
      "provenance": []
    },
    "kernelspec": {
      "name": "python3",
      "display_name": "Python 3"
    },
    "language_info": {
      "name": "python"
    }
  },
  "cells": [
    {
      "cell_type": "code",
      "execution_count": 1,
      "metadata": {
        "colab": {
          "base_uri": "https://localhost:8080/"
        },
        "id": "DvoCp845ik3A",
        "outputId": "5d420f8b-fad8-40d0-fd1e-ba968aace918"
      },
      "outputs": [
        {
          "output_type": "stream",
          "name": "stdout",
          "text": [
            "[1, 2, 3, 4, 5, 6, 7, 8, 9, 10]\n"
          ]
        }
      ],
      "source": [
        "# Создаем пустой список\n",
        "numbers = []\n",
        "\n",
        "# Заполняем список числами от 1 до 10 с помощью цикла\n",
        "for i in range(1, 11):\n",
        "    numbers.append(i)  # Добавляем каждое число в список\n",
        "\n",
        "# Выводим итоговый список после завершения цикла\n",
        "print(numbers)\n"
      ]
    },
    {
      "cell_type": "markdown",
      "source": [
        "Задача: Создание списка чисел от 1 до 10\n",
        "В этом блокноте мы используем цикл `for`, чтобы создать список целых чисел от 1 до 10 и вывести его на экран.\n",
        "\n",
        "**Алгоритм:**\n",
        "1. Создаем пустой список.\n",
        "2. Используем цикл `for`, чтобы последовательно добавить числа от 1 до 10 в список.\n",
        "3. После завершения цикла выводим готовый список."
      ],
      "metadata": {
        "id": "zrVYqZHxjSLJ"
      }
    }
  ]
}